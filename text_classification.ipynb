{
 "cells": [
  {
   "cell_type": "code",
   "execution_count": 16,
   "metadata": {
    "colab": {
     "base_uri": "https://localhost:8080/",
     "height": 74,
     "resources": {
      "http://localhost:8080/nbextensions/google.colab/files.js": {
       "data": "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",
       "headers": [
        [
         "content-type",
         "application/javascript"
        ]
       ],
       "ok": true,
       "status": 200,
       "status_text": ""
      }
     }
    },
    "colab_type": "code",
    "executionInfo": {
     "elapsed": 26558,
     "status": "ok",
     "timestamp": 1586583372184,
     "user": {
      "displayName": "Rishabh Kumar",
      "photoUrl": "https://lh3.googleusercontent.com/a-/AOh14GjPyq2JS5W4v-5Xcsvt38mof9ALscYtWHlVw98AWQ=s64",
      "userId": "08340834587439937307"
     },
     "user_tz": -330
    },
    "id": "ihRcwq5dbnJ0",
    "outputId": "e6198d57-70c6-4782-a65a-5c9dc40a3555"
   },
   "outputs": [
    {
     "data": {
      "text/html": [
       "\n",
       "     <input type=\"file\" id=\"files-f5a956e3-09ab-4958-bdda-63c205f76011\" name=\"files[]\" multiple disabled />\n",
       "     <output id=\"result-f5a956e3-09ab-4958-bdda-63c205f76011\">\n",
       "      Upload widget is only available when the cell has been executed in the\n",
       "      current browser session. Please rerun this cell to enable.\n",
       "      </output>\n",
       "      <script src=\"/nbextensions/google.colab/files.js\"></script> "
      ],
      "text/plain": [
       "<IPython.core.display.HTML object>"
      ]
     },
     "metadata": {
      "tags": []
     },
     "output_type": "display_data"
    },
    {
     "name": "stdout",
     "output_type": "stream",
     "text": [
      "Saving kaggle.json to kaggle (1).json\n"
     ]
    }
   ],
   "source": [
    "!pip install -U -q kaggle\n",
    "!mkdir -p ~/.kaggle\n",
    "from google.colab import files\n",
    "files.upload()\n",
    "!cp kaggle.json ~/.kaggle/"
   ]
  },
  {
   "cell_type": "code",
   "execution_count": 17,
   "metadata": {
    "colab": {
     "base_uri": "https://localhost:8080/",
     "height": 70
    },
    "colab_type": "code",
    "executionInfo": {
     "elapsed": 31727,
     "status": "ok",
     "timestamp": 1586583377363,
     "user": {
      "displayName": "Rishabh Kumar",
      "photoUrl": "https://lh3.googleusercontent.com/a-/AOh14GjPyq2JS5W4v-5Xcsvt38mof9ALscYtWHlVw98AWQ=s64",
      "userId": "08340834587439937307"
     },
     "user_tz": -330
    },
    "id": "83m8zh3Cb3xn",
    "outputId": "cd801e91-8c1a-41af-d2e0-7f6534daca87"
   },
   "outputs": [
    {
     "name": "stdout",
     "output_type": "stream",
     "text": [
      "Warning: Your Kaggle API key is readable by other users on this system! To fix this, you can run 'chmod 600 /root/.kaggle/kaggle.json'\n",
      "hierarchical-text-classification.zip: Skipping, found more recently modified local copy (use --force to force download)\n"
     ]
    }
   ],
   "source": [
    "!kaggle datasets download -d kashnitsky/hierarchical-text-classification"
   ]
  },
  {
   "cell_type": "code",
   "execution_count": 18,
   "metadata": {
    "colab": {
     "base_uri": "https://localhost:8080/",
     "height": 101
    },
    "colab_type": "code",
    "executionInfo": {
     "elapsed": 55932,
     "status": "ok",
     "timestamp": 1586583401576,
     "user": {
      "displayName": "Rishabh Kumar",
      "photoUrl": "https://lh3.googleusercontent.com/a-/AOh14GjPyq2JS5W4v-5Xcsvt38mof9ALscYtWHlVw98AWQ=s64",
      "userId": "08340834587439937307"
     },
     "user_tz": -330
    },
    "id": "ygdI-Y55b8Zu",
    "outputId": "56898df7-af97-493c-c25e-3f1b927033af"
   },
   "outputs": [
    {
     "name": "stdout",
     "output_type": "stream",
     "text": [
      "Archive:  hierarchical-text-classification.zip\n",
      "replace train_40k.csv? [y]es, [n]o, [A]ll, [N]one, [r]ename: y\n",
      "  inflating: train_40k.csv           \n",
      "replace unlabeled_150k.csv? [y]es, [n]o, [A]ll, [N]one, [r]ename: n\n",
      "replace val_10k.csv? [y]es, [n]o, [A]ll, [N]one, [r]ename: n\n"
     ]
    }
   ],
   "source": [
    "!unzip *.zip"
   ]
  },
  {
   "cell_type": "code",
   "execution_count": 66,
   "metadata": {
    "colab": {
     "base_uri": "https://localhost:8080/",
     "height": 50
    },
    "colab_type": "code",
    "executionInfo": {
     "elapsed": 2851,
     "status": "ok",
     "timestamp": 1586589337391,
     "user": {
      "displayName": "Rishabh Kumar",
      "photoUrl": "https://lh3.googleusercontent.com/a-/AOh14GjPyq2JS5W4v-5Xcsvt38mof9ALscYtWHlVw98AWQ=s64",
      "userId": "08340834587439937307"
     },
     "user_tz": -330
    },
    "id": "jsN9IEdVcHjU",
    "outputId": "34399326-bacc-4a4f-981b-5715f09f1615"
   },
   "outputs": [
    {
     "name": "stdout",
     "output_type": "stream",
     "text": [
      "[nltk_data] Downloading package stopwords to /root/nltk_data...\n",
      "[nltk_data]   Package stopwords is already up-to-date!\n"
     ]
    }
   ],
   "source": [
    "import pandas as pd\n",
    "import numpy as np\n",
    "\n",
    "import string\n",
    "import re\n",
    "\n",
    "from nltk.corpus import stopwords\n",
    "import nltk\n",
    "nltk.download('stopwords')\n",
    "\n",
    "from sklearn.model_selection import train_test_split\n",
    "from sklearn.feature_extraction.text import CountVectorizer\n",
    "\n",
    "from keras.preprocessing.text import Tokenizer\n",
    "from keras.preprocessing.sequence import pad_sequences\n",
    "from keras.models import Sequential\n",
    "from keras.layers import Dense , Embedding , LSTM, SpatialDropout1D\n",
    "from keras.utils.np_utils import to_categorical"
   ]
  },
  {
   "cell_type": "code",
   "execution_count": 0,
   "metadata": {
    "colab": {},
    "colab_type": "code",
    "id": "crEaok0-cPFs"
   },
   "outputs": [],
   "source": [
    "data = pd.read_csv('train_40k.csv')"
   ]
  },
  {
   "cell_type": "code",
   "execution_count": 21,
   "metadata": {
    "colab": {
     "base_uri": "https://localhost:8080/",
     "height": 618
    },
    "colab_type": "code",
    "executionInfo": {
     "elapsed": 55908,
     "status": "ok",
     "timestamp": 1586583401579,
     "user": {
      "displayName": "Rishabh Kumar",
      "photoUrl": "https://lh3.googleusercontent.com/a-/AOh14GjPyq2JS5W4v-5Xcsvt38mof9ALscYtWHlVw98AWQ=s64",
      "userId": "08340834587439937307"
     },
     "user_tz": -330
    },
    "id": "9f-v3nD-cVnS",
    "outputId": "d9be416a-6c95-4e60-d327-f1b0c01cb02b"
   },
   "outputs": [
    {
     "data": {
      "text/html": [
       "<div>\n",
       "<style scoped>\n",
       "    .dataframe tbody tr th:only-of-type {\n",
       "        vertical-align: middle;\n",
       "    }\n",
       "\n",
       "    .dataframe tbody tr th {\n",
       "        vertical-align: top;\n",
       "    }\n",
       "\n",
       "    .dataframe thead th {\n",
       "        text-align: right;\n",
       "    }\n",
       "</style>\n",
       "<table border=\"1\" class=\"dataframe\">\n",
       "  <thead>\n",
       "    <tr style=\"text-align: right;\">\n",
       "      <th></th>\n",
       "      <th>productId</th>\n",
       "      <th>Title</th>\n",
       "      <th>userId</th>\n",
       "      <th>Helpfulness</th>\n",
       "      <th>Score</th>\n",
       "      <th>Time</th>\n",
       "      <th>Text</th>\n",
       "      <th>Cat1</th>\n",
       "      <th>Cat2</th>\n",
       "      <th>Cat3</th>\n",
       "    </tr>\n",
       "  </thead>\n",
       "  <tbody>\n",
       "    <tr>\n",
       "      <th>0</th>\n",
       "      <td>B000E46LYG</td>\n",
       "      <td>Golden Valley Natural Buffalo Jerky</td>\n",
       "      <td>A3MQDNGHDJU4MK</td>\n",
       "      <td>0/0</td>\n",
       "      <td>3.0</td>\n",
       "      <td>-1</td>\n",
       "      <td>The description and photo on this product need...</td>\n",
       "      <td>grocery gourmet food</td>\n",
       "      <td>meat poultry</td>\n",
       "      <td>jerky</td>\n",
       "    </tr>\n",
       "    <tr>\n",
       "      <th>1</th>\n",
       "      <td>B000GRA6N8</td>\n",
       "      <td>Westing Game</td>\n",
       "      <td>unknown</td>\n",
       "      <td>0/0</td>\n",
       "      <td>5.0</td>\n",
       "      <td>860630400</td>\n",
       "      <td>This was a great book!!!! It is well thought t...</td>\n",
       "      <td>toys games</td>\n",
       "      <td>games</td>\n",
       "      <td>unknown</td>\n",
       "    </tr>\n",
       "    <tr>\n",
       "      <th>2</th>\n",
       "      <td>B000GRA6N8</td>\n",
       "      <td>Westing Game</td>\n",
       "      <td>unknown</td>\n",
       "      <td>0/0</td>\n",
       "      <td>5.0</td>\n",
       "      <td>883008000</td>\n",
       "      <td>I am a first year teacher, teaching 5th grade....</td>\n",
       "      <td>toys games</td>\n",
       "      <td>games</td>\n",
       "      <td>unknown</td>\n",
       "    </tr>\n",
       "    <tr>\n",
       "      <th>3</th>\n",
       "      <td>B000GRA6N8</td>\n",
       "      <td>Westing Game</td>\n",
       "      <td>unknown</td>\n",
       "      <td>0/0</td>\n",
       "      <td>5.0</td>\n",
       "      <td>897696000</td>\n",
       "      <td>I got the book at my bookfair at school lookin...</td>\n",
       "      <td>toys games</td>\n",
       "      <td>games</td>\n",
       "      <td>unknown</td>\n",
       "    </tr>\n",
       "    <tr>\n",
       "      <th>4</th>\n",
       "      <td>B00000DMDQ</td>\n",
       "      <td>I SPY A is For Jigsaw Puzzle 63pc</td>\n",
       "      <td>unknown</td>\n",
       "      <td>2/4</td>\n",
       "      <td>5.0</td>\n",
       "      <td>911865600</td>\n",
       "      <td>Hi! I'm Martine Redman and I created this puzz...</td>\n",
       "      <td>toys games</td>\n",
       "      <td>puzzles</td>\n",
       "      <td>jigsaw puzzles</td>\n",
       "    </tr>\n",
       "  </tbody>\n",
       "</table>\n",
       "</div>"
      ],
      "text/plain": [
       "    productId  ...            Cat3\n",
       "0  B000E46LYG  ...           jerky\n",
       "1  B000GRA6N8  ...         unknown\n",
       "2  B000GRA6N8  ...         unknown\n",
       "3  B000GRA6N8  ...         unknown\n",
       "4  B00000DMDQ  ...  jigsaw puzzles\n",
       "\n",
       "[5 rows x 10 columns]"
      ]
     },
     "execution_count": 21,
     "metadata": {
      "tags": []
     },
     "output_type": "execute_result"
    }
   ],
   "source": [
    "data.head()"
   ]
  },
  {
   "cell_type": "code",
   "execution_count": 0,
   "metadata": {
    "colab": {},
    "colab_type": "code",
    "id": "H51YGpQwcW1a"
   },
   "outputs": [],
   "source": [
    "data.drop(data.columns[:6] , inplace = True , axis = 1)"
   ]
  },
  {
   "cell_type": "code",
   "execution_count": 23,
   "metadata": {
    "colab": {
     "base_uri": "https://localhost:8080/",
     "height": 262
    },
    "colab_type": "code",
    "executionInfo": {
     "elapsed": 55892,
     "status": "ok",
     "timestamp": 1586583401579,
     "user": {
      "displayName": "Rishabh Kumar",
      "photoUrl": "https://lh3.googleusercontent.com/a-/AOh14GjPyq2JS5W4v-5Xcsvt38mof9ALscYtWHlVw98AWQ=s64",
      "userId": "08340834587439937307"
     },
     "user_tz": -330
    },
    "id": "i4FMuN0ccj5B",
    "outputId": "7d781bbb-8bca-4aec-8f75-bb2d9059d767"
   },
   "outputs": [
    {
     "data": {
      "text/html": [
       "<div>\n",
       "<style scoped>\n",
       "    .dataframe tbody tr th:only-of-type {\n",
       "        vertical-align: middle;\n",
       "    }\n",
       "\n",
       "    .dataframe tbody tr th {\n",
       "        vertical-align: top;\n",
       "    }\n",
       "\n",
       "    .dataframe thead th {\n",
       "        text-align: right;\n",
       "    }\n",
       "</style>\n",
       "<table border=\"1\" class=\"dataframe\">\n",
       "  <thead>\n",
       "    <tr style=\"text-align: right;\">\n",
       "      <th></th>\n",
       "      <th>Text</th>\n",
       "      <th>Cat1</th>\n",
       "      <th>Cat2</th>\n",
       "      <th>Cat3</th>\n",
       "    </tr>\n",
       "  </thead>\n",
       "  <tbody>\n",
       "    <tr>\n",
       "      <th>0</th>\n",
       "      <td>The description and photo on this product need...</td>\n",
       "      <td>grocery gourmet food</td>\n",
       "      <td>meat poultry</td>\n",
       "      <td>jerky</td>\n",
       "    </tr>\n",
       "    <tr>\n",
       "      <th>1</th>\n",
       "      <td>This was a great book!!!! It is well thought t...</td>\n",
       "      <td>toys games</td>\n",
       "      <td>games</td>\n",
       "      <td>unknown</td>\n",
       "    </tr>\n",
       "    <tr>\n",
       "      <th>2</th>\n",
       "      <td>I am a first year teacher, teaching 5th grade....</td>\n",
       "      <td>toys games</td>\n",
       "      <td>games</td>\n",
       "      <td>unknown</td>\n",
       "    </tr>\n",
       "    <tr>\n",
       "      <th>3</th>\n",
       "      <td>I got the book at my bookfair at school lookin...</td>\n",
       "      <td>toys games</td>\n",
       "      <td>games</td>\n",
       "      <td>unknown</td>\n",
       "    </tr>\n",
       "    <tr>\n",
       "      <th>4</th>\n",
       "      <td>Hi! I'm Martine Redman and I created this puzz...</td>\n",
       "      <td>toys games</td>\n",
       "      <td>puzzles</td>\n",
       "      <td>jigsaw puzzles</td>\n",
       "    </tr>\n",
       "  </tbody>\n",
       "</table>\n",
       "</div>"
      ],
      "text/plain": [
       "                                                Text  ...            Cat3\n",
       "0  The description and photo on this product need...  ...           jerky\n",
       "1  This was a great book!!!! It is well thought t...  ...         unknown\n",
       "2  I am a first year teacher, teaching 5th grade....  ...         unknown\n",
       "3  I got the book at my bookfair at school lookin...  ...         unknown\n",
       "4  Hi! I'm Martine Redman and I created this puzz...  ...  jigsaw puzzles\n",
       "\n",
       "[5 rows x 4 columns]"
      ]
     },
     "execution_count": 23,
     "metadata": {
      "tags": []
     },
     "output_type": "execute_result"
    }
   ],
   "source": [
    "data.head()"
   ]
  },
  {
   "cell_type": "code",
   "execution_count": 24,
   "metadata": {
    "colab": {
     "base_uri": "https://localhost:8080/",
     "height": 134
    },
    "colab_type": "code",
    "executionInfo": {
     "elapsed": 55880,
     "status": "ok",
     "timestamp": 1586583401580,
     "user": {
      "displayName": "Rishabh Kumar",
      "photoUrl": "https://lh3.googleusercontent.com/a-/AOh14GjPyq2JS5W4v-5Xcsvt38mof9ALscYtWHlVw98AWQ=s64",
      "userId": "08340834587439937307"
     },
     "user_tz": -330
    },
    "id": "wHAqVTIMcq-N",
    "outputId": "bc285ce7-fe3f-429f-f550-6c50c76409d5"
   },
   "outputs": [
    {
     "data": {
      "text/plain": [
       "toys games              10266\n",
       "health personal care     9772\n",
       "beauty                   5846\n",
       "baby products            5637\n",
       "pet supplies             4862\n",
       "grocery gourmet food     3617\n",
       "Name: Cat1, dtype: int64"
      ]
     },
     "execution_count": 24,
     "metadata": {
      "tags": []
     },
     "output_type": "execute_result"
    }
   ],
   "source": [
    "data.Cat1.value_counts()"
   ]
  },
  {
   "cell_type": "code",
   "execution_count": 25,
   "metadata": {
    "colab": {
     "base_uri": "https://localhost:8080/",
     "height": 218
    },
    "colab_type": "code",
    "executionInfo": {
     "elapsed": 55871,
     "status": "ok",
     "timestamp": 1586583401580,
     "user": {
      "displayName": "Rishabh Kumar",
      "photoUrl": "https://lh3.googleusercontent.com/a-/AOh14GjPyq2JS5W4v-5Xcsvt38mof9ALscYtWHlVw98AWQ=s64",
      "userId": "08340834587439937307"
     },
     "user_tz": -330
    },
    "id": "ScR_SDcDc0Iu",
    "outputId": "e21bcf81-0dfe-4e57-ed57-ec1195b49d88"
   },
   "outputs": [
    {
     "data": {
      "text/plain": [
       "personal care         2852\n",
       "dogs                  2610\n",
       "nutrition wellness    2203\n",
       "health care           2002\n",
       "cats                  1779\n",
       "                      ... \n",
       "sauces dips             40\n",
       "baby food               40\n",
       "produce                 38\n",
       "meat seafood            37\n",
       "small animals           29\n",
       "Name: Cat2, Length: 64, dtype: int64"
      ]
     },
     "execution_count": 25,
     "metadata": {
      "tags": []
     },
     "output_type": "execute_result"
    }
   ],
   "source": [
    "data.Cat2.value_counts()"
   ]
  },
  {
   "cell_type": "code",
   "execution_count": 26,
   "metadata": {
    "colab": {
     "base_uri": "https://localhost:8080/",
     "height": 34
    },
    "colab_type": "code",
    "executionInfo": {
     "elapsed": 55860,
     "status": "ok",
     "timestamp": 1586583401580,
     "user": {
      "displayName": "Rishabh Kumar",
      "photoUrl": "https://lh3.googleusercontent.com/a-/AOh14GjPyq2JS5W4v-5Xcsvt38mof9ALscYtWHlVw98AWQ=s64",
      "userId": "08340834587439937307"
     },
     "user_tz": -330
    },
    "id": "Oxn2mxGbc4Bx",
    "outputId": "4814b944-a082-4021-b22c-14786df67160"
   },
   "outputs": [
    {
     "data": {
      "text/plain": [
       "(64,)"
      ]
     },
     "execution_count": 26,
     "metadata": {
      "tags": []
     },
     "output_type": "execute_result"
    }
   ],
   "source": [
    "data.Cat2.value_counts().shape"
   ]
  },
  {
   "cell_type": "code",
   "execution_count": 27,
   "metadata": {
    "colab": {
     "base_uri": "https://localhost:8080/",
     "height": 34
    },
    "colab_type": "code",
    "executionInfo": {
     "elapsed": 55851,
     "status": "ok",
     "timestamp": 1586583401581,
     "user": {
      "displayName": "Rishabh Kumar",
      "photoUrl": "https://lh3.googleusercontent.com/a-/AOh14GjPyq2JS5W4v-5Xcsvt38mof9ALscYtWHlVw98AWQ=s64",
      "userId": "08340834587439937307"
     },
     "user_tz": -330
    },
    "id": "9aD-p4j5c88f",
    "outputId": "ccb936c0-f1b6-4a26-c99e-688d567839e2"
   },
   "outputs": [
    {
     "data": {
      "text/plain": [
       "(40000, 4)"
      ]
     },
     "execution_count": 27,
     "metadata": {
      "tags": []
     },
     "output_type": "execute_result"
    }
   ],
   "source": [
    "data.shape"
   ]
  },
  {
   "cell_type": "code",
   "execution_count": 28,
   "metadata": {
    "colab": {
     "base_uri": "https://localhost:8080/",
     "height": 218
    },
    "colab_type": "code",
    "executionInfo": {
     "elapsed": 55844,
     "status": "ok",
     "timestamp": 1586583401581,
     "user": {
      "displayName": "Rishabh Kumar",
      "photoUrl": "https://lh3.googleusercontent.com/a-/AOh14GjPyq2JS5W4v-5Xcsvt38mof9ALscYtWHlVw98AWQ=s64",
      "userId": "08340834587439937307"
     },
     "user_tz": -330
    },
    "id": "rxb-1611c_XF",
    "outputId": "f0cfb5d0-91ad-4981-dc24-7ed1445e1e81"
   },
   "outputs": [
    {
     "data": {
      "text/plain": [
       "unknown                 2262\n",
       "shaving hair removal    1565\n",
       "vitamins supplements    1315\n",
       "board games              924\n",
       "styling tools            850\n",
       "                        ... \n",
       "children s                 1\n",
       "bubble bath                1\n",
       "butter                     1\n",
       "odor stain removers        1\n",
       "pork                       1\n",
       "Name: Cat3, Length: 464, dtype: int64"
      ]
     },
     "execution_count": 28,
     "metadata": {
      "tags": []
     },
     "output_type": "execute_result"
    }
   ],
   "source": [
    "data.Cat3.value_counts()"
   ]
  },
  {
   "cell_type": "code",
   "execution_count": 29,
   "metadata": {
    "colab": {
     "base_uri": "https://localhost:8080/",
     "height": 34
    },
    "colab_type": "code",
    "executionInfo": {
     "elapsed": 55836,
     "status": "ok",
     "timestamp": 1586583401582,
     "user": {
      "displayName": "Rishabh Kumar",
      "photoUrl": "https://lh3.googleusercontent.com/a-/AOh14GjPyq2JS5W4v-5Xcsvt38mof9ALscYtWHlVw98AWQ=s64",
      "userId": "08340834587439937307"
     },
     "user_tz": -330
    },
    "id": "NQDmbaIHevVk",
    "outputId": "a87dce33-bf49-40fa-81a4-ff63696a5297"
   },
   "outputs": [
    {
     "name": "stdout",
     "output_type": "stream",
     "text": [
      "<class 'str'>\n"
     ]
    }
   ],
   "source": [
    "table = str.maketrans('' , '' , string.punctuation)\n",
    "def clean(txt):\n",
    "    stripped = [w.translate(table) for w in txt.split()]\n",
    "    txt = ' '.join([words for words in stripped])\n",
    "    result = ''.join([i for i in txt if not i.isdigit()])\n",
    "    words = [word.lower() for word in result.split()]\n",
    "    stop = set(stopwords.words('english'))\n",
    "    wo = [word for word in words if not word in stop]\n",
    "    txt = ' '.join(wo)\n",
    "    return txt\n",
    "print(type(clean(data.Text[1])))"
   ]
  },
  {
   "cell_type": "code",
   "execution_count": 30,
   "metadata": {
    "colab": {
     "base_uri": "https://localhost:8080/",
     "height": 54
    },
    "colab_type": "code",
    "executionInfo": {
     "elapsed": 55827,
     "status": "ok",
     "timestamp": 1586583401582,
     "user": {
      "displayName": "Rishabh Kumar",
      "photoUrl": "https://lh3.googleusercontent.com/a-/AOh14GjPyq2JS5W4v-5Xcsvt38mof9ALscYtWHlVw98AWQ=s64",
      "userId": "08340834587439937307"
     },
     "user_tz": -330
    },
    "id": "a7gsO7t5iD5g",
    "outputId": "dc0016b8-b209-4602-8981-564d5a4c7d1e"
   },
   "outputs": [
    {
     "data": {
      "text/plain": [
       "'This was a great book!!!! It is well thought through, and you can easily imagine the events happening. The Westing Game itself is a great way to tie two things together. The events are well sequenced and exciting. Ellen Raskin wrote a wonderful book'"
      ]
     },
     "execution_count": 30,
     "metadata": {
      "tags": []
     },
     "output_type": "execute_result"
    }
   ],
   "source": [
    "data.Text[1]"
   ]
  },
  {
   "cell_type": "code",
   "execution_count": 0,
   "metadata": {
    "colab": {},
    "colab_type": "code",
    "id": "dvQwzAy5dWVC"
   },
   "outputs": [],
   "source": [
    "data[\"new_text\"] = data[\"Text\"].apply(lambda x : clean(x))"
   ]
  },
  {
   "cell_type": "code",
   "execution_count": 32,
   "metadata": {
    "colab": {
     "base_uri": "https://localhost:8080/",
     "height": 296
    },
    "colab_type": "code",
    "executionInfo": {
     "elapsed": 64845,
     "status": "ok",
     "timestamp": 1586583410615,
     "user": {
      "displayName": "Rishabh Kumar",
      "photoUrl": "https://lh3.googleusercontent.com/a-/AOh14GjPyq2JS5W4v-5Xcsvt38mof9ALscYtWHlVw98AWQ=s64",
      "userId": "08340834587439937307"
     },
     "user_tz": -330
    },
    "id": "QuWer3Trjbfs",
    "outputId": "7058685a-1a2e-4cf0-8d91-d3f9c735c186"
   },
   "outputs": [
    {
     "data": {
      "text/html": [
       "<div>\n",
       "<style scoped>\n",
       "    .dataframe tbody tr th:only-of-type {\n",
       "        vertical-align: middle;\n",
       "    }\n",
       "\n",
       "    .dataframe tbody tr th {\n",
       "        vertical-align: top;\n",
       "    }\n",
       "\n",
       "    .dataframe thead th {\n",
       "        text-align: right;\n",
       "    }\n",
       "</style>\n",
       "<table border=\"1\" class=\"dataframe\">\n",
       "  <thead>\n",
       "    <tr style=\"text-align: right;\">\n",
       "      <th></th>\n",
       "      <th>Text</th>\n",
       "      <th>Cat1</th>\n",
       "      <th>Cat2</th>\n",
       "      <th>Cat3</th>\n",
       "      <th>new_text</th>\n",
       "    </tr>\n",
       "  </thead>\n",
       "  <tbody>\n",
       "    <tr>\n",
       "      <th>0</th>\n",
       "      <td>The description and photo on this product need...</td>\n",
       "      <td>grocery gourmet food</td>\n",
       "      <td>meat poultry</td>\n",
       "      <td>jerky</td>\n",
       "      <td>description photo product needs changed indica...</td>\n",
       "    </tr>\n",
       "    <tr>\n",
       "      <th>1</th>\n",
       "      <td>This was a great book!!!! It is well thought t...</td>\n",
       "      <td>toys games</td>\n",
       "      <td>games</td>\n",
       "      <td>unknown</td>\n",
       "      <td>great book well thought easily imagine events ...</td>\n",
       "    </tr>\n",
       "    <tr>\n",
       "      <th>2</th>\n",
       "      <td>I am a first year teacher, teaching 5th grade....</td>\n",
       "      <td>toys games</td>\n",
       "      <td>games</td>\n",
       "      <td>unknown</td>\n",
       "      <td>first year teacher teaching th grade special r...</td>\n",
       "    </tr>\n",
       "    <tr>\n",
       "      <th>3</th>\n",
       "      <td>I got the book at my bookfair at school lookin...</td>\n",
       "      <td>toys games</td>\n",
       "      <td>games</td>\n",
       "      <td>unknown</td>\n",
       "      <td>got book bookfair school looking something sum...</td>\n",
       "    </tr>\n",
       "    <tr>\n",
       "      <th>4</th>\n",
       "      <td>Hi! I'm Martine Redman and I created this puzz...</td>\n",
       "      <td>toys games</td>\n",
       "      <td>puzzles</td>\n",
       "      <td>jigsaw puzzles</td>\n",
       "      <td>hi im martine redman created puzzle briarpatch...</td>\n",
       "    </tr>\n",
       "  </tbody>\n",
       "</table>\n",
       "</div>"
      ],
      "text/plain": [
       "                                                Text  ...                                           new_text\n",
       "0  The description and photo on this product need...  ...  description photo product needs changed indica...\n",
       "1  This was a great book!!!! It is well thought t...  ...  great book well thought easily imagine events ...\n",
       "2  I am a first year teacher, teaching 5th grade....  ...  first year teacher teaching th grade special r...\n",
       "3  I got the book at my bookfair at school lookin...  ...  got book bookfair school looking something sum...\n",
       "4  Hi! I'm Martine Redman and I created this puzz...  ...  hi im martine redman created puzzle briarpatch...\n",
       "\n",
       "[5 rows x 5 columns]"
      ]
     },
     "execution_count": 32,
     "metadata": {
      "tags": []
     },
     "output_type": "execute_result"
    }
   ],
   "source": [
    "data.head()"
   ]
  },
  {
   "cell_type": "code",
   "execution_count": 0,
   "metadata": {
    "colab": {},
    "colab_type": "code",
    "id": "4K6sJezKj50q"
   },
   "outputs": [],
   "source": [
    "data.drop('Text' , axis = 1 , inplace = True)"
   ]
  },
  {
   "cell_type": "code",
   "execution_count": 34,
   "metadata": {
    "colab": {
     "base_uri": "https://localhost:8080/",
     "height": 262
    },
    "colab_type": "code",
    "executionInfo": {
     "elapsed": 64831,
     "status": "ok",
     "timestamp": 1586583410616,
     "user": {
      "displayName": "Rishabh Kumar",
      "photoUrl": "https://lh3.googleusercontent.com/a-/AOh14GjPyq2JS5W4v-5Xcsvt38mof9ALscYtWHlVw98AWQ=s64",
      "userId": "08340834587439937307"
     },
     "user_tz": -330
    },
    "id": "UbSGLrH9kDqT",
    "outputId": "3edbcd85-e3c5-4253-ba48-ea4934c7f765"
   },
   "outputs": [
    {
     "data": {
      "text/html": [
       "<div>\n",
       "<style scoped>\n",
       "    .dataframe tbody tr th:only-of-type {\n",
       "        vertical-align: middle;\n",
       "    }\n",
       "\n",
       "    .dataframe tbody tr th {\n",
       "        vertical-align: top;\n",
       "    }\n",
       "\n",
       "    .dataframe thead th {\n",
       "        text-align: right;\n",
       "    }\n",
       "</style>\n",
       "<table border=\"1\" class=\"dataframe\">\n",
       "  <thead>\n",
       "    <tr style=\"text-align: right;\">\n",
       "      <th></th>\n",
       "      <th>Cat1</th>\n",
       "      <th>Cat2</th>\n",
       "      <th>Cat3</th>\n",
       "      <th>new_text</th>\n",
       "    </tr>\n",
       "  </thead>\n",
       "  <tbody>\n",
       "    <tr>\n",
       "      <th>0</th>\n",
       "      <td>grocery gourmet food</td>\n",
       "      <td>meat poultry</td>\n",
       "      <td>jerky</td>\n",
       "      <td>description photo product needs changed indica...</td>\n",
       "    </tr>\n",
       "    <tr>\n",
       "      <th>1</th>\n",
       "      <td>toys games</td>\n",
       "      <td>games</td>\n",
       "      <td>unknown</td>\n",
       "      <td>great book well thought easily imagine events ...</td>\n",
       "    </tr>\n",
       "    <tr>\n",
       "      <th>2</th>\n",
       "      <td>toys games</td>\n",
       "      <td>games</td>\n",
       "      <td>unknown</td>\n",
       "      <td>first year teacher teaching th grade special r...</td>\n",
       "    </tr>\n",
       "    <tr>\n",
       "      <th>3</th>\n",
       "      <td>toys games</td>\n",
       "      <td>games</td>\n",
       "      <td>unknown</td>\n",
       "      <td>got book bookfair school looking something sum...</td>\n",
       "    </tr>\n",
       "    <tr>\n",
       "      <th>4</th>\n",
       "      <td>toys games</td>\n",
       "      <td>puzzles</td>\n",
       "      <td>jigsaw puzzles</td>\n",
       "      <td>hi im martine redman created puzzle briarpatch...</td>\n",
       "    </tr>\n",
       "  </tbody>\n",
       "</table>\n",
       "</div>"
      ],
      "text/plain": [
       "                   Cat1  ...                                           new_text\n",
       "0  grocery gourmet food  ...  description photo product needs changed indica...\n",
       "1            toys games  ...  great book well thought easily imagine events ...\n",
       "2            toys games  ...  first year teacher teaching th grade special r...\n",
       "3            toys games  ...  got book bookfair school looking something sum...\n",
       "4            toys games  ...  hi im martine redman created puzzle briarpatch...\n",
       "\n",
       "[5 rows x 4 columns]"
      ]
     },
     "execution_count": 34,
     "metadata": {
      "tags": []
     },
     "output_type": "execute_result"
    }
   ],
   "source": [
    "data.head()"
   ]
  },
  {
   "cell_type": "code",
   "execution_count": 0,
   "metadata": {
    "colab": {},
    "colab_type": "code",
    "id": "eeGCddhYkmt5"
   },
   "outputs": [],
   "source": [
    "data1 = data[{\"new_text\" , \"Cat1\"}]"
   ]
  },
  {
   "cell_type": "code",
   "execution_count": 36,
   "metadata": {
    "colab": {
     "base_uri": "https://localhost:8080/",
     "height": 195
    },
    "colab_type": "code",
    "executionInfo": {
     "elapsed": 64818,
     "status": "ok",
     "timestamp": 1586583410616,
     "user": {
      "displayName": "Rishabh Kumar",
      "photoUrl": "https://lh3.googleusercontent.com/a-/AOh14GjPyq2JS5W4v-5Xcsvt38mof9ALscYtWHlVw98AWQ=s64",
      "userId": "08340834587439937307"
     },
     "user_tz": -330
    },
    "id": "YHsVzLwLksbk",
    "outputId": "f09c74a1-fe31-4445-9250-f92e1694c2c1"
   },
   "outputs": [
    {
     "data": {
      "text/html": [
       "<div>\n",
       "<style scoped>\n",
       "    .dataframe tbody tr th:only-of-type {\n",
       "        vertical-align: middle;\n",
       "    }\n",
       "\n",
       "    .dataframe tbody tr th {\n",
       "        vertical-align: top;\n",
       "    }\n",
       "\n",
       "    .dataframe thead th {\n",
       "        text-align: right;\n",
       "    }\n",
       "</style>\n",
       "<table border=\"1\" class=\"dataframe\">\n",
       "  <thead>\n",
       "    <tr style=\"text-align: right;\">\n",
       "      <th></th>\n",
       "      <th>new_text</th>\n",
       "      <th>Cat1</th>\n",
       "    </tr>\n",
       "  </thead>\n",
       "  <tbody>\n",
       "    <tr>\n",
       "      <th>0</th>\n",
       "      <td>description photo product needs changed indica...</td>\n",
       "      <td>grocery gourmet food</td>\n",
       "    </tr>\n",
       "    <tr>\n",
       "      <th>1</th>\n",
       "      <td>great book well thought easily imagine events ...</td>\n",
       "      <td>toys games</td>\n",
       "    </tr>\n",
       "    <tr>\n",
       "      <th>2</th>\n",
       "      <td>first year teacher teaching th grade special r...</td>\n",
       "      <td>toys games</td>\n",
       "    </tr>\n",
       "    <tr>\n",
       "      <th>3</th>\n",
       "      <td>got book bookfair school looking something sum...</td>\n",
       "      <td>toys games</td>\n",
       "    </tr>\n",
       "    <tr>\n",
       "      <th>4</th>\n",
       "      <td>hi im martine redman created puzzle briarpatch...</td>\n",
       "      <td>toys games</td>\n",
       "    </tr>\n",
       "  </tbody>\n",
       "</table>\n",
       "</div>"
      ],
      "text/plain": [
       "                                            new_text                  Cat1\n",
       "0  description photo product needs changed indica...  grocery gourmet food\n",
       "1  great book well thought easily imagine events ...            toys games\n",
       "2  first year teacher teaching th grade special r...            toys games\n",
       "3  got book bookfair school looking something sum...            toys games\n",
       "4  hi im martine redman created puzzle briarpatch...            toys games"
      ]
     },
     "execution_count": 36,
     "metadata": {
      "tags": []
     },
     "output_type": "execute_result"
    }
   ],
   "source": [
    "data1.head()"
   ]
  },
  {
   "cell_type": "code",
   "execution_count": 37,
   "metadata": {
    "colab": {
     "base_uri": "https://localhost:8080/",
     "height": 34
    },
    "colab_type": "code",
    "executionInfo": {
     "elapsed": 64813,
     "status": "ok",
     "timestamp": 1586583410617,
     "user": {
      "displayName": "Rishabh Kumar",
      "photoUrl": "https://lh3.googleusercontent.com/a-/AOh14GjPyq2JS5W4v-5Xcsvt38mof9ALscYtWHlVw98AWQ=s64",
      "userId": "08340834587439937307"
     },
     "user_tz": -330
    },
    "id": "nvIJmNx0k0E-",
    "outputId": "cf085c23-ea02-4245-a217-fb5dd4d319c2"
   },
   "outputs": [
    {
     "data": {
      "text/plain": [
       "265.048775"
      ]
     },
     "execution_count": 37,
     "metadata": {
      "tags": []
     },
     "output_type": "execute_result"
    }
   ],
   "source": [
    "data1.new_text.apply(lambda x : len(x)).mean()"
   ]
  },
  {
   "cell_type": "code",
   "execution_count": 38,
   "metadata": {
    "colab": {
     "base_uri": "https://localhost:8080/",
     "height": 34
    },
    "colab_type": "code",
    "executionInfo": {
     "elapsed": 64767,
     "status": "ok",
     "timestamp": 1586583410617,
     "user": {
      "displayName": "Rishabh Kumar",
      "photoUrl": "https://lh3.googleusercontent.com/a-/AOh14GjPyq2JS5W4v-5Xcsvt38mof9ALscYtWHlVw98AWQ=s64",
      "userId": "08340834587439937307"
     },
     "user_tz": -330
    },
    "id": "INgibYqglFnN",
    "outputId": "13c601f8-fb33-4043-edb8-228225af2b30"
   },
   "outputs": [
    {
     "data": {
      "text/plain": [
       "40.1735"
      ]
     },
     "execution_count": 38,
     "metadata": {
      "tags": []
     },
     "output_type": "execute_result"
    }
   ],
   "source": [
    "data1.new_text.apply(lambda x : len(x.split())).mean()"
   ]
  },
  {
   "cell_type": "code",
   "execution_count": 39,
   "metadata": {
    "colab": {
     "base_uri": "https://localhost:8080/",
     "height": 34
    },
    "colab_type": "code",
    "executionInfo": {
     "elapsed": 64752,
     "status": "ok",
     "timestamp": 1586583410618,
     "user": {
      "displayName": "Rishabh Kumar",
      "photoUrl": "https://lh3.googleusercontent.com/a-/AOh14GjPyq2JS5W4v-5Xcsvt38mof9ALscYtWHlVw98AWQ=s64",
      "userId": "08340834587439937307"
     },
     "user_tz": -330
    },
    "id": "8Xy75TIMl0wd",
    "outputId": "beb529f8-2a53-469d-c39e-415fb54fd844"
   },
   "outputs": [
    {
     "data": {
      "text/plain": [
       "156"
      ]
     },
     "execution_count": 39,
     "metadata": {
      "tags": []
     },
     "output_type": "execute_result"
    }
   ],
   "source": [
    "len(data1.new_text.iloc[5950].split())"
   ]
  },
  {
   "cell_type": "code",
   "execution_count": 40,
   "metadata": {
    "colab": {
     "base_uri": "https://localhost:8080/",
     "height": 54
    },
    "colab_type": "code",
    "executionInfo": {
     "elapsed": 64744,
     "status": "ok",
     "timestamp": 1586583410618,
     "user": {
      "displayName": "Rishabh Kumar",
      "photoUrl": "https://lh3.googleusercontent.com/a-/AOh14GjPyq2JS5W4v-5Xcsvt38mof9ALscYtWHlVw98AWQ=s64",
      "userId": "08340834587439937307"
     },
     "user_tz": -330
    },
    "id": "vWgTiw32mMcW",
    "outputId": "57528088-d662-42a5-c8e5-6acde3feccc6"
   },
   "outputs": [
    {
     "data": {
      "text/plain": [
       "'description photo product needs changed indicate product buffalos version beef jerky'"
      ]
     },
     "execution_count": 40,
     "metadata": {
      "tags": []
     },
     "output_type": "execute_result"
    }
   ],
   "source": [
    "data1.new_text.iloc[0]"
   ]
  },
  {
   "cell_type": "code",
   "execution_count": 0,
   "metadata": {
    "colab": {},
    "colab_type": "code",
    "id": "XjxYaL2Inqsf"
   },
   "outputs": [],
   "source": [
    "max_features = 2000\n",
    "tokenizer = Tokenizer(num_words = max_features , split = ' ')\n",
    "tokenizer.fit_on_texts(data1['new_text'].values)\n",
    "X = tokenizer.texts_to_sequences(data1['new_text'].values)\n",
    "X = pad_sequences(X)"
   ]
  },
  {
   "cell_type": "code",
   "execution_count": 45,
   "metadata": {
    "colab": {
     "base_uri": "https://localhost:8080/",
     "height": 302
    },
    "colab_type": "code",
    "executionInfo": {
     "elapsed": 1400,
     "status": "ok",
     "timestamp": 1586583782208,
     "user": {
      "displayName": "Rishabh Kumar",
      "photoUrl": "https://lh3.googleusercontent.com/a-/AOh14GjPyq2JS5W4v-5Xcsvt38mof9ALscYtWHlVw98AWQ=s64",
      "userId": "08340834587439937307"
     },
     "user_tz": -330
    },
    "id": "M_8T6Omquc-G",
    "outputId": "d3189ea8-bd6c-4ba8-805c-3dc0fb8beaea"
   },
   "outputs": [
    {
     "name": "stdout",
     "output_type": "stream",
     "text": [
      "Model: \"sequential_3\"\n",
      "_________________________________________________________________\n",
      "Layer (type)                 Output Shape              Param #   \n",
      "=================================================================\n",
      "embedding_3 (Embedding)      (None, 396, 128)          256000    \n",
      "_________________________________________________________________\n",
      "spatial_dropout1d_3 (Spatial (None, 396, 128)          0         \n",
      "_________________________________________________________________\n",
      "lstm_3 (LSTM)                (None, 196)               254800    \n",
      "_________________________________________________________________\n",
      "dense_3 (Dense)              (None, 6)                 1182      \n",
      "=================================================================\n",
      "Total params: 511,982\n",
      "Trainable params: 511,982\n",
      "Non-trainable params: 0\n",
      "_________________________________________________________________\n",
      "None\n"
     ]
    }
   ],
   "source": [
    "embed_dim = 128\n",
    "lstm_out = 196\n",
    "\n",
    "model = Sequential()\n",
    "model.add(Embedding(max_features , embed_dim , input_length = X.shape[1]))\n",
    "model.add(SpatialDropout1D(0.4))\n",
    "model.add(LSTM(lstm_out , dropout = 0.2 , recurrent_dropout = 0.2))\n",
    "model.add(Dense(len(data1['Cat1'].unique()) , activation = 'softmax'))\n",
    "model.compile(loss = 'categorical_crossentropy' , optimizer = 'adam' , metrics = ['accuracy'])\n",
    "print(model.summary())"
   ]
  },
  {
   "cell_type": "code",
   "execution_count": 47,
   "metadata": {
    "colab": {
     "base_uri": "https://localhost:8080/",
     "height": 50
    },
    "colab_type": "code",
    "executionInfo": {
     "elapsed": 3649,
     "status": "ok",
     "timestamp": 1586584008722,
     "user": {
      "displayName": "Rishabh Kumar",
      "photoUrl": "https://lh3.googleusercontent.com/a-/AOh14GjPyq2JS5W4v-5Xcsvt38mof9ALscYtWHlVw98AWQ=s64",
      "userId": "08340834587439937307"
     },
     "user_tz": -330
    },
    "id": "3W43SsGbu6X3",
    "outputId": "d0287187-d17e-4f1d-d725-3bfb152cc89b"
   },
   "outputs": [
    {
     "name": "stdout",
     "output_type": "stream",
     "text": [
      "(26800, 396) (26800, 6)\n",
      "(13200, 396) (13200, 6)\n"
     ]
    }
   ],
   "source": [
    "Y = pd.get_dummies(data['Cat1']).values\n",
    "X_train , X_test , Y_train , Y_test = train_test_split(X , Y , test_size = 0.33 , random_state = 42)\n",
    "print(X_train.shape , Y_train.shape)\n",
    "print(X_test.shape , Y_test.shape)"
   ]
  },
  {
   "cell_type": "code",
   "execution_count": 48,
   "metadata": {
    "colab": {
     "base_uri": "https://localhost:8080/",
     "height": 322
    },
    "colab_type": "code",
    "executionInfo": {
     "elapsed": 534516,
     "status": "ok",
     "timestamp": 1586588697626,
     "user": {
      "displayName": "Rishabh Kumar",
      "photoUrl": "https://lh3.googleusercontent.com/a-/AOh14GjPyq2JS5W4v-5Xcsvt38mof9ALscYtWHlVw98AWQ=s64",
      "userId": "08340834587439937307"
     },
     "user_tz": -330
    },
    "id": "lrRdVptuxqlX",
    "outputId": "0eb279ea-bf84-495e-a07e-8f3afffa0eb1"
   },
   "outputs": [
    {
     "name": "stderr",
     "output_type": "stream",
     "text": [
      "/usr/local/lib/python3.6/dist-packages/tensorflow/python/framework/indexed_slices.py:434: UserWarning: Converting sparse IndexedSlices to a dense Tensor of unknown shape. This may consume a large amount of memory.\n",
      "  \"Converting sparse IndexedSlices to a dense Tensor of unknown shape. \"\n"
     ]
    },
    {
     "name": "stdout",
     "output_type": "stream",
     "text": [
      "Epoch 1/7\n",
      " - 723s - loss: 1.0098 - accuracy: 0.6302\n",
      "Epoch 2/7\n",
      " - 705s - loss: 0.6272 - accuracy: 0.7906\n",
      "Epoch 3/7\n",
      " - 639s - loss: 0.5531 - accuracy: 0.8122\n",
      "Epoch 4/7\n",
      " - 655s - loss: 0.5116 - accuracy: 0.8262\n",
      "Epoch 5/7\n",
      " - 634s - loss: 0.4824 - accuracy: 0.8349\n",
      "Epoch 6/7\n",
      " - 632s - loss: 0.4579 - accuracy: 0.8401\n",
      "Epoch 7/7\n",
      " - 634s - loss: 0.4350 - accuracy: 0.8497\n"
     ]
    },
    {
     "data": {
      "text/plain": [
       "<keras.callbacks.callbacks.History at 0x7ff38519a5c0>"
      ]
     },
     "execution_count": 48,
     "metadata": {
      "tags": []
     },
     "output_type": "execute_result"
    }
   ],
   "source": [
    "batch_size = 32\n",
    "model.fit(X_train , Y_train , epochs = 7 , batch_size = batch_size , verbose = 2)"
   ]
  },
  {
   "cell_type": "code",
   "execution_count": 0,
   "metadata": {
    "colab": {},
    "colab_type": "code",
    "id": "enWAEaFHx6nD"
   },
   "outputs": [],
   "source": [
    "valid_size = 1500\n",
    "X_validate = X_test[-valid_size:]\n",
    "Y_validate = Y_test[-valid_size:]\n",
    "X_test = X_test[:-valid_size:]\n",
    "Y_test = Y_test[:-valid_size:]\n",
    "score , acc = model.evaluate(X_test , Y_test , verbose = 2 , batch_size = batch_size)"
   ]
  },
  {
   "cell_type": "code",
   "execution_count": 50,
   "metadata": {
    "colab": {
     "base_uri": "https://localhost:8080/",
     "height": 34
    },
    "colab_type": "code",
    "executionInfo": {
     "elapsed": 2073,
     "status": "ok",
     "timestamp": 1586588948891,
     "user": {
      "displayName": "Rishabh Kumar",
      "photoUrl": "https://lh3.googleusercontent.com/a-/AOh14GjPyq2JS5W4v-5Xcsvt38mof9ALscYtWHlVw98AWQ=s64",
      "userId": "08340834587439937307"
     },
     "user_tz": -330
    },
    "id": "aFlV-po9Eay7",
    "outputId": "764cdcd0-ab5f-4c08-b08c-3324d91dc2d8"
   },
   "outputs": [
    {
     "data": {
      "text/plain": [
       "0.8029914498329163"
      ]
     },
     "execution_count": 50,
     "metadata": {
      "tags": []
     },
     "output_type": "execute_result"
    }
   ],
   "source": [
    "acc"
   ]
  },
  {
   "cell_type": "code",
   "execution_count": 59,
   "metadata": {
    "colab": {
     "base_uri": "https://localhost:8080/",
     "height": 34
    },
    "colab_type": "code",
    "executionInfo": {
     "elapsed": 2504,
     "status": "ok",
     "timestamp": 1586589155540,
     "user": {
      "displayName": "Rishabh Kumar",
      "photoUrl": "https://lh3.googleusercontent.com/a-/AOh14GjPyq2JS5W4v-5Xcsvt38mof9ALscYtWHlVw98AWQ=s64",
      "userId": "08340834587439937307"
     },
     "user_tz": -330
    },
    "id": "XiwztiPOEfqn",
    "outputId": "25029c3a-5ce5-4198-c4e6-98375de2c9cb"
   },
   "outputs": [
    {
     "data": {
      "text/plain": [
       "(396,)"
      ]
     },
     "execution_count": 59,
     "metadata": {
      "tags": []
     },
     "output_type": "execute_result"
    }
   ],
   "source": [
    "X_validate[0].shape"
   ]
  },
  {
   "cell_type": "code",
   "execution_count": 98,
   "metadata": {
    "colab": {
     "base_uri": "https://localhost:8080/",
     "height": 34
    },
    "colab_type": "code",
    "executionInfo": {
     "elapsed": 1684,
     "status": "ok",
     "timestamp": 1586591169337,
     "user": {
      "displayName": "Rishabh Kumar",
      "photoUrl": "https://lh3.googleusercontent.com/a-/AOh14GjPyq2JS5W4v-5Xcsvt38mof9ALscYtWHlVw98AWQ=s64",
      "userId": "08340834587439937307"
     },
     "user_tz": -330
    },
    "id": "35KmuwpVEvas",
    "outputId": "268978f9-4646-4573-ddf2-5ee087886fb4"
   },
   "outputs": [
    {
     "data": {
      "text/plain": [
       "array([1, 0, 0, 0, 0, 0], dtype=uint8)"
      ]
     },
     "execution_count": 98,
     "metadata": {
      "tags": []
     },
     "output_type": "execute_result"
    }
   ],
   "source": [
    "Y_validate[1000]"
   ]
  },
  {
   "cell_type": "code",
   "execution_count": 0,
   "metadata": {
    "colab": {},
    "colab_type": "code",
    "id": "Gk_CaMx6Ezk_"
   },
   "outputs": [],
   "source": [
    "out = model.predict(X_validate , verbose = 2)"
   ]
  },
  {
   "cell_type": "code",
   "execution_count": 97,
   "metadata": {
    "colab": {
     "base_uri": "https://localhost:8080/",
     "height": 50
    },
    "colab_type": "code",
    "executionInfo": {
     "elapsed": 2743,
     "status": "ok",
     "timestamp": 1586591162198,
     "user": {
      "displayName": "Rishabh Kumar",
      "photoUrl": "https://lh3.googleusercontent.com/a-/AOh14GjPyq2JS5W4v-5Xcsvt38mof9ALscYtWHlVw98AWQ=s64",
      "userId": "08340834587439937307"
     },
     "user_tz": -330
    },
    "id": "L4KS_5bfFDgA",
    "outputId": "2035482e-2c24-4ea2-ce35-9dbb35ddc3c1"
   },
   "outputs": [
    {
     "data": {
      "text/plain": [
       "array([[8.9257592e-01, 9.7267440e-04, 3.3920305e-04, 2.7976003e-02,\n",
       "        6.3793687e-03, 7.1756899e-02]], dtype=float32)"
      ]
     },
     "execution_count": 97,
     "metadata": {
      "tags": []
     },
     "output_type": "execute_result"
    }
   ],
   "source": [
    "te = X_validate[1000:1001]\n",
    "#np.reshape(te , (1,396))\n",
    "model.predict(te , verbose = 2)"
   ]
  },
  {
   "cell_type": "code",
   "execution_count": 0,
   "metadata": {
    "colab": {},
    "colab_type": "code",
    "id": "ZXHHXt_jMkX-"
   },
   "outputs": [],
   "source": []
  }
 ],
 "metadata": {
  "accelerator": "GPU",
  "colab": {
   "authorship_tag": "ABX9TyMszYMj6Fm7tNX64yE5FH61",
   "collapsed_sections": [],
   "name": "text_classification.ipynb",
   "provenance": []
  },
  "kernelspec": {
   "display_name": "Python 3",
   "language": "python",
   "name": "python3"
  },
  "language_info": {
   "codemirror_mode": {
    "name": "ipython",
    "version": 3
   },
   "file_extension": ".py",
   "mimetype": "text/x-python",
   "name": "python",
   "nbconvert_exporter": "python",
   "pygments_lexer": "ipython3",
   "version": "3.7.1"
  }
 },
 "nbformat": 4,
 "nbformat_minor": 1
}
